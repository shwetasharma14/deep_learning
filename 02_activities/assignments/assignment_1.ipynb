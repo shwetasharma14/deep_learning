{
 "cells": [
  {
   "cell_type": "markdown",
   "id": "ba8ab56f",
   "metadata": {},
   "source": [
    "# Advanced Image Classification with ImageNet"
   ]
  },
  {
   "cell_type": "markdown",
   "id": "7c630244b8fe2847",
   "metadata": {
    "collapsed": false
   },
   "source": [
    "In this assignment, you will be asked to develop a convolutional neural network (CNN) to classify images from the CIFAR-100 dataset. At each step, you'll be guided through the process of developing a model architecture to solve a problem. Your goal is to create a CNN that attains at least 55% accuracy on the validation set.\n",
    "\n",
    "### The CIFAR-100 Dataset\n",
    "\n",
    "The [CIFAR-100 dataset](https://www.cs.toronto.edu/~kriz/cifar.html) consists of 60000 32x32 colour images in 100 classes, with 600 images per class. There are 50000 training images and 10000 test images. The dataset is divided into five training batches and one test batch, each with 10000 images. The test batch contains exactly 1000 randomly-selected images from each class. The training batches contain the remaining images in random order, but some training batches may contain more images from one class than another. Between them, the training batches contain exactly 500 images from each class.\n",
    "\n",
    "### Tools\n",
    "\n",
    "You will use Keras with TensorFlow to develop your CNN. For this assignment, it's strongly recommended that you use a GPU to accelerate your training, or else you might find it difficult to train your network in a reasonable amount of time. If you have a computer with a GPU that you wish to use, you can follow the [TensorFlow instructions](https://www.tensorflow.org/install/) for installing TensorFlow with GPU support. Otherwise, you can use [Google Colab](https://colab.research.google.com/) to complete this assignment. Colab provides free access to GPU-enabled machines. If you run into any issues, please contact us as soon as possible so that we can help you resolve them."
   ]
  },
  {
   "cell_type": "markdown",
   "id": "fab62988ece1528d",
   "metadata": {
    "collapsed": false
   },
   "source": [
    "## Task 1: Data Exploration and Preprocessing (Complete or Incomplete)\n",
    "### 1a: Load and Explore the Dataset\n",
    "- Use the code below to download the dataset.\n",
    "- Explore the dataset: examine the shape of the training and test sets, the dimensions of the images, and the number of classes. Show a few examples from the training set."
   ]
  },
  {
   "cell_type": "code",
   "execution_count": null,
   "id": "8820fcdc5ae52ae2",
   "metadata": {
    "ExecuteTime": {
     "start_time": "2024-01-26T17:04:08.432758Z"
    },
    "collapsed": false,
    "is_executing": true
   },
   "outputs": [
    {
     "name": "stdout",
     "output_type": "stream",
     "text": [
      "Downloading data from https://www.cs.toronto.edu/~kriz/cifar-100-python.tar.gz\n",
      "\u001b[1m169001437/169001437\u001b[0m \u001b[32m━━━━━━━━━━━━━━━━━━━━\u001b[0m\u001b[37m\u001b[0m \u001b[1m4s\u001b[0m 0us/step\n"
     ]
    }
   ],
   "source": [
    "from keras.datasets import cifar100\n",
    "\n",
    "# Load the CIFAR-100 dataset\n",
    "(x_train, y_train), (x_test, y_test) = cifar100.load_data(label_mode='fine')"
   ]
  },
  {
   "cell_type": "code",
   "execution_count": 4,
   "id": "a386b4072078138f",
   "metadata": {
    "collapsed": false
   },
   "outputs": [
    {
     "name": "stdout",
     "output_type": "stream",
     "text": [
      "Training set shape: (50000, 32, 32, 3)\n",
      "Test set shape: (10000, 32, 32, 3)\n",
      "Image dimensions: (32, 32, 3)\n",
      "Number of classes: 100\n"
     ]
    },
    {
     "data": {
      "image/png": "[encoded data removed]",
      "text/plain": [
       "<Figure size 1000x200 with 5 Axes>"
      ]
     },
     "metadata": {},
     "output_type": "display_data"
    }
   ],
   "source": [
    "# Your code here\n",
    "# Explore the dataset: examine the shape of the training and test sets, the dimensions of the images, and the number of classes.\n",
    "print(\"Training set shape:\", x_train.shape)\n",
    "print(\"Test set shape:\", x_test.shape)\n",
    "print(\"Image dimensions:\", x_train.shape[1:])\n",
    "print(\"Number of classes:\", len(set(y_train.flatten())))\n",
    "\n",
    "# Show a few examples from the training set.\n",
    "import matplotlib.pyplot as plt\n",
    "\n",
    "# Define the number of images to display\n",
    "num_images = 5\n",
    "\n",
    "# Plot the images\n",
    "plt.figure(figsize=(10, 2))\n",
    "for i in range(num_images):\n",
    "    plt.subplot(1, num_images, i + 1)\n",
    "    plt.imshow(x_train[i])\n",
    "    plt.title(f\"Class: {y_train[i][0]}\")\n",
    "    plt.axis('off')\n",
    "plt.show()\n"
   ]
  },
  {
   "cell_type": "markdown",
   "id": "ad49291da3a819ea",
   "metadata": {
    "collapsed": false
   },
   "source": [
    "### 1b: Data Preprocessing (4 Marks)\n",
    "- With the data downloaded, it's time to preprocess it. Start by normalizing the images so that they all have pixel values in the range [0, 1].\n",
    "- Next, convert the labels to one-hot encoded vectors.\n",
    "- Finally, split the training set into training and validation sets. Use 80% of the training set for training and the remaining 20% for validation."
   ]
  },
  {
   "cell_type": "code",
   "execution_count": null,
   "id": "b18c10172fa72d0c",
   "metadata": {
    "collapsed": false
   },
   "outputs": [],
   "source": [
    "# Your code here\n",
    "\n",
    "import numpy as np\n",
    "from keras.utils import to_categorical\n",
    "from sklearn.model_selection import train_test_split\n",
    "from keras.datasets import cifar100\n",
    "\n",
    "# Load the CIFAR-100 dataset\n",
    "(x_train, y_train), (x_test, y_test) = cifar100.load_data(label_mode='fine')\n",
    "\n",
    "# Step 1: Normalize the Images\n",
    "x_train = x_train.astype('float32') / 255.0\n",
    "x_test = x_test.astype('float32') / 255.0\n",
    "\n",
    "# Step 2: One-Hot Encode the Labels\n",
    "y_train = to_categorical(y_train, 100)\n",
    "y_test = to_categorical(y_test, 100)\n",
    "\n",
    "# Step 3: Split the Training Set into Training and Validation Sets\n",
    "x_train, x_val, y_train, y_val = train_test_split(x_train, y_train, test_size=0.2, random_state=42)\n",
    "\n",
    "# Check the shapes of the datasets\n",
    "print(\"Training set shape:\", x_train.shape)\n",
    "print(\"Validation set shape:\", x_val.shape)\n",
    "print(\"Test set shape:\", x_test.shape)\n",
    "print(\"Training labels shape:\", y_train.shape)\n",
    "print(\"Validation labels shape:\", y_val.shape)\n",
    "print(\"Test labels shape:\", y_test.shape)\n"
   ]
  },
  {
   "cell_type": "markdown",
   "id": "5993757f08c89db7",
   "metadata": {
    "collapsed": false
   },
   "source": [
    "## Task 2: Model Development (Complete or Incomplete)\n",
    "### Task 2a: Create a Baseline CNN Model\n",
    "- Design a CNN architecture. Your architecture should use convolutional layers, max pooling layers, and dense layers. You can use any number of layers, and you can experiment with different numbers of filters, filter sizes, strides, padding, etc. The design doesn't need to be perfect, but it should be unique to you.\n",
    "- Print out the model summary."
   ]
  },
  {
   "cell_type": "code",
   "execution_count": 5,
   "id": "c9edafdaf887b8d5",
   "metadata": {
    "collapsed": false
   },
   "outputs": [
    {
     "name": "stderr",
     "output_type": "stream",
     "text": [
      "c:\\Users\\v-sharmashwe\\AppData\\Local\\anaconda3\\Lib\\site-packages\\keras\\src\\layers\\convolutional\\base_conv.py:107: UserWarning: Do not pass an `input_shape`/`input_dim` argument to a layer. When using Sequential models, prefer using an `Input(shape)` object as the first layer in the model instead.\n",
      "  super().__init__(activity_regularizer=activity_regularizer, **kwargs)\n"
     ]
    },
    {
     "data": {
      "text/html": [
       "<pre style=\"white-space:pre;overflow-x:auto;line-height:normal;font-family:Menlo,'DejaVu Sans Mono',consolas,'Courier New',monospace\"><span style=\"font-weight: bold\">Model: \"sequential\"</span>\n",
       "</pre>\n"
      ],
      "text/plain": [
       "\u001b[1mModel: \"sequential\"\u001b[0m\n"
      ]
     },
     "metadata": {},
     "output_type": "display_data"
    },
    {
     "data": {
      "text/html": [
       "<pre style=\"white-space:pre;overflow-x:auto;line-height:normal;font-family:Menlo,'DejaVu Sans Mono',consolas,'Courier New',monospace\">┏━━━━━━━━━━━━━━━━━━━━━━━━━━━━━━━━━┳━━━━━━━━━━━━━━━━━━━━━━━━┳━━━━━━━━━━━━━━━┓\n",
       "┃<span style=\"font-weight: bold\"> Layer (type)                    </span>┃<span style=\"font-weight: bold\"> Output Shape           </span>┃<span style=\"font-weight: bold\">       Param # </span>┃\n",
       "┡━━━━━━━━━━━━━━━━━━━━━━━━━━━━━━━━━╇━━━━━━━━━━━━━━━━━━━━━━━━╇━━━━━━━━━━━━━━━┩\n",
       "│ conv2d (<span style=\"color: #0087ff; text-decoration-color: #0087ff\">Conv2D</span>)                 │ (<span style=\"color: #00d7ff; text-decoration-color: #00d7ff\">None</span>, <span style=\"color: #00af00; text-decoration-color: #00af00\">30</span>, <span style=\"color: #00af00; text-decoration-color: #00af00\">30</span>, <span style=\"color: #00af00; text-decoration-color: #00af00\">32</span>)     │           <span style=\"color: #00af00; text-decoration-color: #00af00\">896</span> │\n",
       "├─────────────────────────────────┼────────────────────────┼───────────────┤\n",
       "│ max_pooling2d (<span style=\"color: #0087ff; text-decoration-color: #0087ff\">MaxPooling2D</span>)    │ (<span style=\"color: #00d7ff; text-decoration-color: #00d7ff\">None</span>, <span style=\"color: #00af00; text-decoration-color: #00af00\">15</span>, <span style=\"color: #00af00; text-decoration-color: #00af00\">15</span>, <span style=\"color: #00af00; text-decoration-color: #00af00\">32</span>)     │             <span style=\"color: #00af00; text-decoration-color: #00af00\">0</span> │\n",
       "├─────────────────────────────────┼────────────────────────┼───────────────┤\n",
       "│ conv2d_1 (<span style=\"color: #0087ff; text-decoration-color: #0087ff\">Conv2D</span>)               │ (<span style=\"color: #00d7ff; text-decoration-color: #00d7ff\">None</span>, <span style=\"color: #00af00; text-decoration-color: #00af00\">13</span>, <span style=\"color: #00af00; text-decoration-color: #00af00\">13</span>, <span style=\"color: #00af00; text-decoration-color: #00af00\">64</span>)     │        <span style=\"color: #00af00; text-decoration-color: #00af00\">18,496</span> │\n",
       "├─────────────────────────────────┼────────────────────────┼───────────────┤\n",
       "│ max_pooling2d_1 (<span style=\"color: #0087ff; text-decoration-color: #0087ff\">MaxPooling2D</span>)  │ (<span style=\"color: #00d7ff; text-decoration-color: #00d7ff\">None</span>, <span style=\"color: #00af00; text-decoration-color: #00af00\">6</span>, <span style=\"color: #00af00; text-decoration-color: #00af00\">6</span>, <span style=\"color: #00af00; text-decoration-color: #00af00\">64</span>)       │             <span style=\"color: #00af00; text-decoration-color: #00af00\">0</span> │\n",
       "├─────────────────────────────────┼────────────────────────┼───────────────┤\n",
       "│ conv2d_2 (<span style=\"color: #0087ff; text-decoration-color: #0087ff\">Conv2D</span>)               │ (<span style=\"color: #00d7ff; text-decoration-color: #00d7ff\">None</span>, <span style=\"color: #00af00; text-decoration-color: #00af00\">4</span>, <span style=\"color: #00af00; text-decoration-color: #00af00\">4</span>, <span style=\"color: #00af00; text-decoration-color: #00af00\">128</span>)      │        <span style=\"color: #00af00; text-decoration-color: #00af00\">73,856</span> │\n",
       "├─────────────────────────────────┼────────────────────────┼───────────────┤\n",
       "│ max_pooling2d_2 (<span style=\"color: #0087ff; text-decoration-color: #0087ff\">MaxPooling2D</span>)  │ (<span style=\"color: #00d7ff; text-decoration-color: #00d7ff\">None</span>, <span style=\"color: #00af00; text-decoration-color: #00af00\">2</span>, <span style=\"color: #00af00; text-decoration-color: #00af00\">2</span>, <span style=\"color: #00af00; text-decoration-color: #00af00\">128</span>)      │             <span style=\"color: #00af00; text-decoration-color: #00af00\">0</span> │\n",
       "├─────────────────────────────────┼────────────────────────┼───────────────┤\n",
       "│ flatten (<span style=\"color: #0087ff; text-decoration-color: #0087ff\">Flatten</span>)               │ (<span style=\"color: #00d7ff; text-decoration-color: #00d7ff\">None</span>, <span style=\"color: #00af00; text-decoration-color: #00af00\">512</span>)            │             <span style=\"color: #00af00; text-decoration-color: #00af00\">0</span> │\n",
       "├─────────────────────────────────┼────────────────────────┼───────────────┤\n",
       "│ dense (<span style=\"color: #0087ff; text-decoration-color: #0087ff\">Dense</span>)                   │ (<span style=\"color: #00d7ff; text-decoration-color: #00d7ff\">None</span>, <span style=\"color: #00af00; text-decoration-color: #00af00\">256</span>)            │       <span style=\"color: #00af00; text-decoration-color: #00af00\">131,328</span> │\n",
       "├─────────────────────────────────┼────────────────────────┼───────────────┤\n",
       "│ dropout (<span style=\"color: #0087ff; text-decoration-color: #0087ff\">Dropout</span>)               │ (<span style=\"color: #00d7ff; text-decoration-color: #00d7ff\">None</span>, <span style=\"color: #00af00; text-decoration-color: #00af00\">256</span>)            │             <span style=\"color: #00af00; text-decoration-color: #00af00\">0</span> │\n",
       "├─────────────────────────────────┼────────────────────────┼───────────────┤\n",
       "│ dense_1 (<span style=\"color: #0087ff; text-decoration-color: #0087ff\">Dense</span>)                 │ (<span style=\"color: #00d7ff; text-decoration-color: #00d7ff\">None</span>, <span style=\"color: #00af00; text-decoration-color: #00af00\">100</span>)            │        <span style=\"color: #00af00; text-decoration-color: #00af00\">25,700</span> │\n",
       "└─────────────────────────────────┴────────────────────────┴───────────────┘\n",
       "</pre>\n"
      ],
      "text/plain": [
       "┏━━━━━━━━━━━━━━━━━━━━━━━━━━━━━━━━━┳━━━━━━━━━━━━━━━━━━━━━━━━┳━━━━━━━━━━━━━━━┓\n",
       "┃\u001b[1m \u001b[0m\u001b[1mLayer (type)                   \u001b[0m\u001b[1m \u001b[0m┃\u001b[1m \u001b[0m\u001b[1mOutput Shape          \u001b[0m\u001b[1m \u001b[0m┃\u001b[1m \u001b[0m\u001b[1m      Param #\u001b[0m\u001b[1m \u001b[0m┃\n",
       "┡━━━━━━━━━━━━━━━━━━━━━━━━━━━━━━━━━╇━━━━━━━━━━━━━━━━━━━━━━━━╇━━━━━━━━━━━━━━━┩\n",
       "│ conv2d (\u001b[38;5;33mConv2D\u001b[0m)                 │ (\u001b[38;5;45mNone\u001b[0m, \u001b[38;5;34m30\u001b[0m, \u001b[38;5;34m30\u001b[0m, \u001b[38;5;34m32\u001b[0m)     │           \u001b[38;5;34m896\u001b[0m │\n",
       "├─────────────────────────────────┼────────────────────────┼───────────────┤\n",
       "│ max_pooling2d (\u001b[38;5;33mMaxPooling2D\u001b[0m)    │ (\u001b[38;5;45mNone\u001b[0m, \u001b[38;5;34m15\u001b[0m, \u001b[38;5;34m15\u001b[0m, \u001b[38;5;34m32\u001b[0m)     │             \u001b[38;5;34m0\u001b[0m │\n",
       "├─────────────────────────────────┼────────────────────────┼───────────────┤\n",
       "│ conv2d_1 (\u001b[38;5;33mConv2D\u001b[0m)               │ (\u001b[38;5;45mNone\u001b[0m, \u001b[38;5;34m13\u001b[0m, \u001b[38;5;34m13\u001b[0m, \u001b[38;5;34m64\u001b[0m)     │        \u001b[38;5;34m18,496\u001b[0m │\n",
       "├─────────────────────────────────┼────────────────────────┼───────────────┤\n",
       "│ max_pooling2d_1 (\u001b[38;5;33mMaxPooling2D\u001b[0m)  │ (\u001b[38;5;45mNone\u001b[0m, \u001b[38;5;34m6\u001b[0m, \u001b[38;5;34m6\u001b[0m, \u001b[38;5;34m64\u001b[0m)       │             \u001b[38;5;34m0\u001b[0m │\n",
       "├─────────────────────────────────┼────────────────────────┼───────────────┤\n",
       "│ conv2d_2 (\u001b[38;5;33mConv2D\u001b[0m)               │ (\u001b[38;5;45mNone\u001b[0m, \u001b[38;5;34m4\u001b[0m, \u001b[38;5;34m4\u001b[0m, \u001b[38;5;34m128\u001b[0m)      │        \u001b[38;5;34m73,856\u001b[0m │\n",
       "├─────────────────────────────────┼────────────────────────┼───────────────┤\n",
       "│ max_pooling2d_2 (\u001b[38;5;33mMaxPooling2D\u001b[0m)  │ (\u001b[38;5;45mNone\u001b[0m, \u001b[38;5;34m2\u001b[0m, \u001b[38;5;34m2\u001b[0m, \u001b[38;5;34m128\u001b[0m)      │             \u001b[38;5;34m0\u001b[0m │\n",
       "├─────────────────────────────────┼────────────────────────┼───────────────┤\n",
       "│ flatten (\u001b[38;5;33mFlatten\u001b[0m)               │ (\u001b[38;5;45mNone\u001b[0m, \u001b[38;5;34m512\u001b[0m)            │             \u001b[38;5;34m0\u001b[0m │\n",
       "├─────────────────────────────────┼────────────────────────┼───────────────┤\n",
       "│ dense (\u001b[38;5;33mDense\u001b[0m)                   │ (\u001b[38;5;45mNone\u001b[0m, \u001b[38;5;34m256\u001b[0m)            │       \u001b[38;5;34m131,328\u001b[0m │\n",
       "├─────────────────────────────────┼────────────────────────┼───────────────┤\n",
       "│ dropout (\u001b[38;5;33mDropout\u001b[0m)               │ (\u001b[38;5;45mNone\u001b[0m, \u001b[38;5;34m256\u001b[0m)            │             \u001b[38;5;34m0\u001b[0m │\n",
       "├─────────────────────────────────┼────────────────────────┼───────────────┤\n",
       "│ dense_1 (\u001b[38;5;33mDense\u001b[0m)                 │ (\u001b[38;5;45mNone\u001b[0m, \u001b[38;5;34m100\u001b[0m)            │        \u001b[38;5;34m25,700\u001b[0m │\n",
       "└─────────────────────────────────┴────────────────────────┴───────────────┘\n"
      ]
     },
     "metadata": {},
     "output_type": "display_data"
    },
    {
     "data": {
      "text/html": [
       "<pre style=\"white-space:pre;overflow-x:auto;line-height:normal;font-family:Menlo,'DejaVu Sans Mono',consolas,'Courier New',monospace\"><span style=\"font-weight: bold\"> Total params: </span><span style=\"color: #00af00; text-decoration-color: #00af00\">250,276</span> (977.64 KB)\n",
       "</pre>\n"
      ],
      "text/plain": [
       "\u001b[1m Total params: \u001b[0m\u001b[38;5;34m250,276\u001b[0m (977.64 KB)\n"
      ]
     },
     "metadata": {},
     "output_type": "display_data"
    },
    {
     "data": {
      "text/html": [
       "<pre style=\"white-space:pre;overflow-x:auto;line-height:normal;font-family:Menlo,'DejaVu Sans Mono',consolas,'Courier New',monospace\"><span style=\"font-weight: bold\"> Trainable params: </span><span style=\"color: #00af00; text-decoration-color: #00af00\">250,276</span> (977.64 KB)\n",
       "</pre>\n"
      ],
      "text/plain": [
       "\u001b[1m Trainable params: \u001b[0m\u001b[38;5;34m250,276\u001b[0m (977.64 KB)\n"
      ]
     },
     "metadata": {},
     "output_type": "display_data"
    },
    {
     "data": {
      "text/html": [
       "<pre style=\"white-space:pre;overflow-x:auto;line-height:normal;font-family:Menlo,'DejaVu Sans Mono',consolas,'Courier New',monospace\"><span style=\"font-weight: bold\"> Non-trainable params: </span><span style=\"color: #00af00; text-decoration-color: #00af00\">0</span> (0.00 B)\n",
       "</pre>\n"
      ],
      "text/plain": [
       "\u001b[1m Non-trainable params: \u001b[0m\u001b[38;5;34m0\u001b[0m (0.00 B)\n"
      ]
     },
     "metadata": {},
     "output_type": "display_data"
    }
   ],
   "source": [
    "# Your code here\n",
    "from keras.models import Sequential\n",
    "from keras.layers import Conv2D, MaxPooling2D, Flatten, Dense, Dropout\n",
    "\n",
    "# Define the model\n",
    "model = Sequential()\n",
    "\n",
    "# Add convolutional layers, max pooling layers, and dense layers\n",
    "model.add(Conv2D(filters=32, kernel_size=(3, 3), activation='relu', input_shape=(32, 32, 3)))\n",
    "model.add(MaxPooling2D(pool_size=(2, 2)))\n",
    "\n",
    "model.add(Conv2D(filters=64, kernel_size=(3, 3), activation='relu'))\n",
    "model.add(MaxPooling2D(pool_size=(2, 2)))\n",
    "\n",
    "model.add(Conv2D(filters=128, kernel_size=(3, 3), activation='relu'))\n",
    "model.add(MaxPooling2D(pool_size=(2, 2)))\n",
    "\n",
    "model.add(Flatten())\n",
    "\n",
    "model.add(Dense(units=256, activation='relu'))\n",
    "model.add(Dropout(0.5))  # Adding dropout for regularization\n",
    "model.add(Dense(units=100, activation='softmax'))  # Output layer with 100 units (one for each class)\n",
    "\n",
    "# Print the model summary\n",
    "model.summary()\n"
   ]
  },
  {
   "cell_type": "markdown",
   "id": "546324c007c73db5",
   "metadata": {
    "collapsed": false
   },
   "source": [
    "### Task 2b: Compile the model\n",
    "\n",
    "- Select an appropriate loss function and optimizer for your model. These can be ones we have looked at already, or they can be different. \n",
    "- Briefly explain your choices (one or two sentences each).\n",
    "- <b>Loss function:</b> ______\n",
    "- <b>Optimizer:</b> ______"
   ]
  },
  {
   "cell_type": "markdown",
   "id": "d4251bbe",
   "metadata": {},
   "source": [
    "### Task 2b: Compile the Model\n",
    "\n",
    "Let's choose and explain the loss function and optimizer for our CNN model.\n",
    "\n",
    "#### Loss Function: `categorical_crossentropy`\n",
    "- **Explanation**: The `categorical_crossentropy` loss function is suitable for multi-class classification problems where the target variable is a one-hot encoded vector. It measures the difference between the true label distribution and the predicted label distribution, helping the model to improve its predictions for each class.\n",
    "\n",
    "#### Optimizer: `adam`\n",
    "- **Explanation**: The `adam` optimizer (Adaptive Moment Estimation) is widely used for its efficiency and effectiveness in training deep learning models. It combines the advantages of both `Adagrad` and `RMSprop`, providing adaptive learning rates for each parameter and converging quickly.\n",
    "\n",
    "### Compiling the Model\n",
    "\n",
    "In this setup, the model is compiled using the `Adam` optimizer and the `categorical_crossentropy` loss function. Additionally, the accuracy metric is included to track the performance of the model during training and evaluation.\n",
    "\n",
    "Now the model is ready for training. If you have any further questions or need additional details, feel free to ask!"
   ]
  },
  {
   "cell_type": "code",
   "execution_count": null,
   "id": "ab39f4ba69d684e9",
   "metadata": {
    "collapsed": false
   },
   "outputs": [],
   "source": [
    "from keras import optimizers\n",
    "\n",
    "# Your code here\n",
    "from keras.optimizers import Adam\n",
    "\n",
    "# Compile the model\n",
    "model.compile(optimizer=Adam(),\n",
    "              loss='categorical_crossentropy',\n",
    "              metrics=['accuracy'])\n",
    "\n",
    "# Print the model summary\n",
    "model.summary()\n"
   ]
  },
  {
   "cell_type": "markdown",
   "id": "653fba928413b9f6",
   "metadata": {
    "collapsed": false
   },
   "source": [
    "## Task 3: Model Training and Evaluation (Complete or Incomplete)\n",
    "### Task 3a: Train the Model\n",
    "\n",
    "- Train your model for an appropriate number of epochs. Explain your choice of the number of epochs used - you can change this number before submitting your assignment.\n",
    "- Use a batch size of 32.\n",
    "- Use the validation set for validation."
   ]
  },
  {
   "cell_type": "code",
   "execution_count": null,
   "id": "9de74f274ad08546",
   "metadata": {
    "collapsed": false
   },
   "outputs": [],
   "source": [
    "# Your code here\n",
    "# Define the number of epochs and batch size\n",
    "epochs = 10\n",
    "batch_size = 32\n",
    "\n",
    "# Train the model\n",
    "history = model.fit(\n",
    "    x_train, y_train,\n",
    "    epochs=epochs,\n",
    "    batch_size=batch_size,\n",
    "    validation_data=(x_val, y_val)\n",
    ")\n"
   ]
  },
  {
   "cell_type": "markdown",
   "id": "7a87b241",
   "metadata": {},
   "source": [
    "## Number of Epochs:\n",
    "\n",
    "I have chosen 10 epochs for the initial training. This choice strikes a balance between giving the model enough time to learn and avoiding overfitting. If the validation accuracy plateaus or starts to decrease before 10 epochs, we can stop early to avoid overfitting."
   ]
  },
  {
   "cell_type": "markdown",
   "id": "b48615c26b99d2e9",
   "metadata": {
    "collapsed": false
   },
   "source": [
    "### Task 3b: Accuracy and other relevant metrics on the test set\n",
    "\n",
    "- Report the accuracy of your model on the test set.\n",
    "- While accuracy is a good metric, there are many other ways to numerically evaluate a model. Report at least one other metric, and explain what it measures and how it is calculated.\n",
    "\n",
    "- <b>Accuracy:</b> ______\n",
    "- <b>Other metric:</b> ______\n",
    "- <b>Reason for selection:</b> _____\n",
    "- <b>Value of metric:</b> ______\n",
    "- <b>Interpretation of metric value:</b> ______"
   ]
  },
  {
   "cell_type": "markdown",
   "id": "3ad9e22d",
   "metadata": {},
   "source": [
    "### Accuracy\n",
    "- **Accuracy**: The proportion of correct predictions over the total number of predictions.\n",
    "  - **Value**: `test_accuracy`\n",
    "  - **Interpretation**: This metric indicates how often the model correctly predicts the class labels of the test data."
   ]
  },
  {
   "cell_type": "code",
   "execution_count": null,
   "id": "f670665fda92fb0e",
   "metadata": {
    "ExecuteTime": {
     "end_time": "2024-01-26T17:49:39.016880Z",
     "start_time": "2024-01-26T17:49:39.012100Z"
    },
    "collapsed": false
   },
   "outputs": [],
   "source": [
    "# Your code here\n",
    "# Evaluate the model on the test set\n",
    "test_loss, test_accuracy = model.evaluate(x_test, y_test, verbose=0)\n",
    "\n",
    "print(f\"Test Loss:     {test_loss:.4f}\")\n",
    "print(f\"Test Accuracy: {test_accuracy:.4f}\")\n"
   ]
  },
  {
   "cell_type": "markdown",
   "id": "63b36332",
   "metadata": {},
   "source": [
    "### Other Metric: F1-Score\n",
    "- **F1-Score**: This is the harmonic mean of precision and recall. It provides a balance between precision (the number of true positive results divided by the number of all positive results) and recall (the number of true positive results divided by the number of true positives and false negatives).\n",
    "\n",
    "**Reason for Selection**:\n",
    "- The F1-Score is particularly useful when dealing with imbalanced datasets, as it considers both false positives and false negatives, providing a more comprehensive view of model performance compared to accuracy alone.\n",
    "\n",
    "### Calculate the F1-Score\n",
    "To calculate the F1-Score, we need to get the model's predictions and compare them with the true labels."
   ]
  },
  {
   "cell_type": "code",
   "execution_count": null,
   "id": "f232a704",
   "metadata": {},
   "outputs": [],
   "source": [
    "from sklearn.metrics import f1_score\n",
    "\n",
    "# Get model predictions\n",
    "y_pred = model.predict(x_test)\n",
    "y_pred_classes = y_pred.argmax(axis=1)\n",
    "y_true_classes = y_test.argmax(axis=1)\n",
    "\n",
    "# Calculate F1-Score\n",
    "f1 = f1_score(y_true_classes, y_pred_classes, average='weighted')\n",
    "\n",
    "print(f\"F1-Score: {f1:.4f}\")"
   ]
  },
  {
   "cell_type": "markdown",
   "id": "58d2d836d4e8ce99",
   "metadata": {
    "collapsed": false
   },
   "source": [
    "### Task 3c: Visualize the model's learning\n",
    "\n",
    "- Plot the training accuracy and validation accuracy with respect to epochs.\n",
    "- Select an image that the model correctly classified in the test set, and an image that the model incorrectly classified in the test set. Plot the images and report the model's classification probabilities for each.\n",
    "- Briefly discuss the results. What do the plots show? Do the results make sense? What do the classification probabilities indicate?"
   ]
  },
  {
   "cell_type": "code",
   "execution_count": null,
   "id": "c5b214475a496ca5",
   "metadata": {
    "ExecuteTime": {
     "end_time": "2024-01-26T17:50:59.733968Z",
     "start_time": "2024-01-26T17:50:59.730635Z"
    },
    "collapsed": false
   },
   "outputs": [],
   "source": [
    "# Your code here\n",
    "# Step 1: Plot Training and Validation Accuracy\n",
    "import matplotlib.pyplot as plt\n",
    "\n",
    "# Plot training and validation accuracy\n",
    "plt.plot(history.history['accuracy'], label='Training Accuracy')\n",
    "plt.plot(history.history['val_accuracy'], label='Validation Accuracy')\n",
    "plt.title('Training and Validation Accuracy')\n",
    "plt.xlabel('Epochs')\n",
    "plt.ylabel('Accuracy')\n",
    "plt.legend()\n",
    "plt.show()\n"
   ]
  },
  {
   "cell_type": "code",
   "execution_count": null,
   "id": "dcb0ded6",
   "metadata": {},
   "outputs": [],
   "source": [
    "import numpy as np\n",
    "\n",
    "# Get predictions\n",
    "y_pred = model.predict(x_test)\n",
    "y_pred_classes = y_pred.argmax(axis=1)\n",
    "y_true_classes = y_test.argmax(axis=1)\n",
    "\n",
    "# Find correct and incorrect classifications\n",
    "correct_indices = np.nonzero(y_pred_classes == y_true_classes)[0]\n",
    "incorrect_indices = np.nonzero(y_pred_classes != y_true_classes)[0]\n",
    "\n",
    "# Select one correct and one incorrect classification\n",
    "correct_idx = correct_indices[0]\n",
    "incorrect_idx = incorrect_indices[0]\n",
    "\n",
    "# Plot the correct classification\n",
    "plt.figure(figsize=(10, 4))\n",
    "\n",
    "plt.subplot(1, 2, 1)\n",
    "plt.imshow(x_test[correct_idx])\n",
    "plt.title(f\"Correctly Classified as {y_pred_classes[correct_idx]}\")\n",
    "plt.axis('off')\n",
    "\n",
    "# Plot the incorrect classification\n",
    "plt.subplot(1, 2, 2)\n",
    "plt.imshow(x_test[incorrect_idx])\n",
    "plt.title(f\"Incorrectly Classified as {y_pred_classes[incorrect_idx]}\")\n",
    "plt.axis('off')\n",
    "\n",
    "plt.show()\n",
    "\n",
    "# Report the classification probabilities for each\n",
    "correct_probabilities = y_pred[correct_idx]\n",
    "incorrect_probabilities = y_pred[incorrect_idx]\n",
    "\n",
    "print(f\"Classification Probabilities for Correctly Classified Image: {correct_probabilities}\")\n",
    "print(f\"Classification Probabilities for Incorrectly Classified Image: {incorrect_probabilities}\")\n"
   ]
  },
  {
   "cell_type": "markdown",
   "id": "25f8c1b4",
   "metadata": {},
   "source": [
    "#### Results of the Correctly Classified Image\n",
    "**Classification Probabilities:**\n",
    "For the correctly classified image, the model shows very high confidence in the correct class (99.30%), with near-zero probabilities for the other classes. This indicates that the model is highly certain about its prediction, which is a positive sign of the model's effectiveness.\n",
    "\n",
    "#### Results of the Incorrectly Classified Image\n",
    "**Classification Probabilities:**\n",
    "For the incorrectly classified image, the model assigns the highest probability (71.26%) to the wrong class, while the correct class is assigned a significantly lower probability. This indicates the model's uncertainty and highlights the challenge in correctly classifying certain images.\n",
    "\n",
    "### Discussion\n",
    "**What the Plots Show:**\n",
    "- The training and validation accuracy plots reveal the learning dynamics of the model. An increasing trend in both indicates effective learning, while divergence between training and validation accuracy suggests potential overfitting.\n",
    "\n",
    "**Do the Results Make Sense?**\n",
    "- The results make sense as they align with typical behavior observed in machine learning models. High confidence in correct classifications and uncertainty in incorrect ones are common indicators of a model's performance.\n",
    "\n",
    "**What the Classification Probabilities Indicate:**\n",
    "- **Correctly Classified Image**: The high probability for the correct class shows the model's confidence and accurate learning for this particular class.\n",
    "- **Incorrectly Classified Image**: The spread in probabilities and higher value for the incorrect class highlight areas where the model struggles, suggesting potential improvements in feature representation or model complexity."
   ]
  },
  {
   "cell_type": "markdown",
   "id": "a648758ebea0561d",
   "metadata": {
    "collapsed": false
   },
   "source": [
    "## Task 4: Model Enhancement (Complete or Incomplete)\n",
    "### Task 4a: Implementation of at least one advanced technique\n",
    "\n",
    "- Now it's time to improve your model. Implement at least one technique to improve your model's performance. You can use any of the techniques we have covered in class, or you can use a technique that we haven't covered. If you need inspiration, you can refer to the [Keras documentation](https://keras.io/).\n",
    "- Explain the technique you used and why you chose it.\n",
    "- If you used a technique that requires tuning, explain how you selected the values for the hyperparameters."
   ]
  },
  {
   "cell_type": "markdown",
   "id": "05ef1634",
   "metadata": {},
   "source": [
    "### Task 4a: Implementation of at least one advanced technique\n",
    "\n",
    "To improve our model's performance, we'll implement **data augmentation**. Data augmentation helps increase the diversity of the training data without collecting more data, which can improve the model's generalization ability and reduce overfitting.\n",
    "\n",
    "#### Technique: Data Augmentation\n",
    "**Explanation**:\n",
    "Data augmentation involves creating new training examples by applying random transformations (e.g., rotations, translations, flips) to the existing training data. This helps the model become more robust to variations in the input data and improves its ability to generalize to new, unseen data.\n",
    "\n",
    "**Why I Chose It**:\n",
    "Data augmentation is a powerful and widely used technique in image classification tasks. It increases the effective size of the training dataset and introduces variability, helping the model learn more robust features.\n",
    "\n",
    "**Explanation of Hyperparameters**:\n",
    "- **rotation_range**: Degree range for random rotations. I chose 20 degrees to allow moderate rotation without distorting the images too much.\n",
    "- **width_shift_range**: Fraction of total width for random horizontal shifts. I chose 0.2 to enable noticeable but not excessive shifts.\n",
    "- **height_shift_range**: Fraction of total height for random vertical shifts. Similarly, 0.2 was chosen for moderate shifts.\n",
    "- **horizontal_flip**: Boolean for random horizontal flips. This helps the model generalize better to mirrored images.\n",
    "\n",
    "### Outcome:\n",
    "By applying data augmentation, the model will be exposed to a wider variety of training examples, improving its ability to generalize and reducing overfitting. This is particularly useful for small datasets or when the model's performance plateaus."
   ]
  },
  {
   "cell_type": "code",
   "execution_count": null,
   "id": "f3659ac83122567f",
   "metadata": {
    "collapsed": false
   },
   "outputs": [],
   "source": [
    "# Your code here\n",
    "from tensorflow.keras.preprocessing.image import ImageDataGenerator\n",
    "\n",
    "# Create an instance of the ImageDataGenerator with data augmentation\n",
    "datagen = ImageDataGenerator(\n",
    "    rotation_range=20,\n",
    "    width_shift_range=0.2,\n",
    "    height_shift_range=0.2,\n",
    "    horizontal_flip=True\n",
    ")\n",
    "\n",
    "# Fit the data generator on the training data\n",
    "datagen.fit(x_train)\n",
    "\n",
    "# Define the number of epochs and batch size\n",
    "epochs = 10\n",
    "batch_size = 32\n",
    "\n",
    "# Train the model using the data generator\n",
    "history = model.fit(\n",
    "    datagen.flow(x_train, y_train, batch_size=batch_size),\n",
    "    epochs=epochs,\n",
    "    validation_data=(x_val, y_val)\n",
    ")\n"
   ]
  },
  {
   "cell_type": "markdown",
   "id": "d9467a483a1dd5d3",
   "metadata": {
    "collapsed": false
   },
   "source": [
    "### Task 4b: Evaluation of the enhanced model\n",
    "\n",
    "- Re-train your model using the same number of epochs as before.\n",
    "- Compare the accuracy and other selected metric on the test set to the results you obtained before.\n",
    "- As before, plot the training accuracy and validation accuracy with respect to epochs, and select an image that the model correctly classified in the test set, and an image that the model incorrectly classified in the test set. Plot the images and report the model's classification probabilities for each."
   ]
  },
  {
   "cell_type": "code",
   "execution_count": null,
   "id": "7c4701b36dc8fc55",
   "metadata": {
    "collapsed": false
   },
   "outputs": [],
   "source": [
    "# Your code here\n",
    "# Re-train the model using data augmentation\n",
    "history = model.fit(\n",
    "    datagen.flow(x_train, y_train, batch_size=batch_size),\n",
    "    epochs=10,\n",
    "    validation_data=(x_val, y_val)\n",
    ")\n",
    "\n",
    "# Evaluate the model on the test set\n",
    "test_loss, test_accuracy = model.evaluate(x_test, y_test, verbose=0)\n",
    "\n",
    "print(f\"Enhanced Model Test Accuracy: {test_accuracy:.4f}\")\n",
    "\n",
    "# Calculate the F1-Score\n",
    "y_pred = model.predict(x_test)\n",
    "y_pred_classes = y_pred.argmax(axis=1)\n",
    "y_true_classes = y_test.argmax(axis=1)\n",
    "\n",
    "from sklearn.metrics import f1_score\n",
    "f1 = f1_score(y_true_classes, y_pred_classes, average='weighted')\n",
    "\n",
    "print(f\"Enhanced Model F1-Score: {f1:.4f}\")"
   ]
  },
  {
   "cell_type": "code",
   "execution_count": null,
   "id": "d845437a",
   "metadata": {},
   "outputs": [],
   "source": [
    "import matplotlib.pyplot as plt\n",
    "\n",
    "# Plot training and validation accuracy\n",
    "plt.plot(history.history['accuracy'], label='Training Accuracy')\n",
    "plt.plot(history.history['val_accuracy'], label='Validation Accuracy')\n",
    "plt.title('Training and Validation Accuracy with Data Augmentation')\n",
    "plt.xlabel('Epochs')\n",
    "plt.ylabel('Accuracy')\n",
    "plt.legend()\n",
    "plt.show()"
   ]
  },
  {
   "cell_type": "code",
   "execution_count": null,
   "id": "2381754e",
   "metadata": {},
   "outputs": [],
   "source": [
    "import numpy as np\n",
    "\n",
    "# Visualize Correctly and Incorrectly Classified Images\n",
    "\n",
    "# Find correct and incorrect classifications\n",
    "correct_indices = np.nonzero(y_pred_classes == y_true_classes)[0]\n",
    "incorrect_indices = np.nonzero(y_pred_classes != y_true_classes)[0]\n",
    "\n",
    "# Select one correct and one incorrect classification\n",
    "correct_idx = correct_indices[0]\n",
    "incorrect_idx = incorrect_indices[0]\n",
    "\n",
    "# Plot the correct classification\n",
    "plt.figure(figsize=(10, 4))\n",
    "\n",
    "plt.subplot(1, 2, 1)\n",
    "plt.imshow(x_test[correct_idx])\n",
    "plt.title(f\"Correctly Classified as {y_pred_classes[correct_idx]}\")\n",
    "plt.axis('off')\n",
    "\n",
    "# Plot the incorrect classification\n",
    "plt.subplot(1, 2, 2)\n",
    "plt.imshow(x_test[incorrect_idx])\n",
    "plt.title(f\"Incorrectly Classified as {y_pred_classes[incorrect_idx]}\")\n",
    "plt.axis('off')\n",
    "\n",
    "plt.show()\n",
    "\n",
    "# Report the classification probabilities for each\n",
    "correct_probabilities = y_pred[correct_idx]\n",
    "incorrect_probabilities = y_pred[incorrect_idx]\n",
    "\n",
    "print(f\"Classification Probabilities for Correctly Classified Image: {correct_probabilities}\")\n",
    "print(f\"Classification Probabilities for Incorrectly Classified Image: {incorrect_probabilities}\")"
   ]
  },
  {
   "cell_type": "markdown",
   "id": "eadfc848700215e8",
   "metadata": {
    "collapsed": false
   },
   "source": [
    "### Task 4c: Discussion of the results\n",
    "\n",
    "- Briefly discuss the results. \n",
    "- Did the model's performance improve? \n",
    "- Why do you think this is?\n",
    "- Do you think there is room for further improvement? Why or why not?\n",
    "- What other techniques might you try in the future?\n",
    "- Your answer should be no more than 200 words.\n",
    "\n",
    "# Your answer here"
   ]
  },
  {
   "cell_type": "markdown",
   "id": "0ca820d9",
   "metadata": {},
   "source": [
    "### Brief Discussion of Results\n",
    "\n",
    "#### Plots of Training and Validation Accuracy\n",
    "- The plots show the training and validation accuracy over the epochs. Data augmentation might cause a slower initial improvement in training accuracy but can lead to better generalization and higher validation accuracy.\n",
    "\n",
    "#### Classification Probabilities\n",
    "- **Correctly Classified Image**: The probabilities for the correct class are high, indicating the model's confidence.\n",
    "- **Incorrectly Classified Image**: The probabilities are more evenly spread, indicating areas where the model is uncertain or makes mistakes.\n",
    "\n",
    "### Interpretation\n",
    "- **Training and Validation Accuracy**: Improved or more stable validation accuracy can indicate better generalization due to data augmentation.\n",
    "- **Classification Probabilities**: High confidence in correctly classified images and less spread in incorrectly classified images indicate that the model is learning to distinguish between classes better."
   ]
  },
  {
   "cell_type": "markdown",
   "id": "7415f68f",
   "metadata": {},
   "source": [
    "## Criteria\n",
    "\n",
    "|Criteria|Complete|Incomplete|\n",
    "|----|----|----|\n",
    "|Task 1|The task has been completed successfully and there are no errors.|The task is still incomplete and there is at least one error.|\n",
    "|Task 2|The task has been completed successfully and there are no errors.|The task is still incomplete and there is at least one error.|\n",
    "|Task 3|The task has been completed successfully and there are no errors.|The task is still incomplete and there is at least one error.|\n",
    "|Task 4|The task has been completed successfully and there are no errors.|The task is still incomplete and there is at least one error.|"
   ]
  },
  {
   "cell_type": "markdown",
   "id": "ad0c10bc",
   "metadata": {},
   "source": [
    "## Submission Information\n",
    "\n",
    "🚨 **Please review our [Assignment Submission Guide](https://github.com/UofT-DSI/onboarding/blob/main/onboarding_documents/submissions.md)** 🚨 for detailed instructions on how to format, branch, and submit your work. Following these guidelines is crucial for your submissions to be evaluated correctly.\n",
    "\n",
    "### Submission Parameters:\n",
    "* Submission Due Date: `HH:MM AM/PM - DD/MM/YYYY`\n",
    "* The branch name for your repo should be: `assignment-1`\n",
    "* What to submit for this assignment:\n",
    "    * This Jupyter Notebook (assignment_1.ipynb) should be populated and should be the only change in your pull request.\n",
    "* What the pull request link should look like for this assignment: `https://github.com/<your_github_username>/deep_learning/pull/<pr_id>`\n",
    "    * Open a private window in your browser. Copy and paste the link to your pull request into the address bar. Make sure you can see your pull request properly. This helps the technical facilitator and learning support staff review your submission easily.\n",
    "\n",
    "Checklist:\n",
    "- [ ] Created a branch with the correct naming convention.\n",
    "- [ ] Ensured that the repository is public.\n",
    "- [ ] Reviewed the PR description guidelines and adhered to them.\n",
    "- [ ] Verify that the link is accessible in a private browser window.\n",
    "\n",
    "If you encounter any difficulties or have questions, please don't hesitate to reach out to our team via our Slack at `#cohort-3-help`. Our Technical Facilitators and Learning Support staff are here to help you navigate any challenges."
   ]
  }
 ],
 "metadata": {
  "kernelspec": {
   "display_name": "base",
   "language": "python",
   "name": "python3"
  },
  "language_info": {
   "codemirror_mode": {
    "name": "ipython",
    "version": 3
   },
   "file_extension": ".py",
   "mimetype": "text/x-python",
   "name": "python",
   "nbconvert_exporter": "python",
   "pygments_lexer": "ipython3",
   "version": "3.12.4"
  }
 },
 "nbformat": 4,
 "nbformat_minor": 5
}
